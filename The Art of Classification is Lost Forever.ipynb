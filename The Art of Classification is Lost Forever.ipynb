{
 "cells": [
  {
   "cell_type": "markdown",
   "metadata": {},
   "source": [
    "# Classifying the Pandora Dataset"
   ]
  },
  {
   "cell_type": "code",
   "execution_count": 1,
   "metadata": {},
   "outputs": [],
   "source": [
    "import numpy as np # linear algebra\n",
    "import json\n",
    "from matplotlib import pyplot as plt\n",
    "from skimage import color\n",
    "from skimage.feature import hog\n",
    "from sklearn import svm\n",
    "from sklearn.metrics import classification_report,accuracy_score\n",
    "from skimage import feature\n",
    "import glob\n",
    "import os\n",
    "import cv2"
   ]
  },
  {
   "cell_type": "markdown",
   "metadata": {},
   "source": [
    "## Importing Data\n",
    "\n",
    " - Import Images\n",
    " - Get Class Labels\n",
    " - Get Categories\n"
   ]
  },
  {
   "cell_type": "code",
   "execution_count": 2,
   "metadata": {},
   "outputs": [],
   "source": [
    "#print(next(os.walk('F:\\\\datamining\\\\rawdata'))[1])\n",
    "class_labels = []\n",
    "categories = []\n",
    "category_count = 0\n",
    "images_total = []\n",
    "raw_data = \"F:\\\\datamining\\\\rawdata\"\n",
    "\n",
    "for item in os.listdir(raw_data):\n",
    "    img_dir = os.path.join(raw_data, item)\n",
    "    categories.append(item)\n",
    "    data_path = os.path.join(img_dir,'*g')\n",
    "    files = glob.glob(data_path)\n",
    "    \n",
    "    for f1 in files:\n",
    "        img = cv2.imread(f1)\n",
    "        images_total.append(img)\n",
    "        class_labels.append(category_count)\n",
    "    category_count+=1"
   ]
  },
  {
   "cell_type": "markdown",
   "metadata": {},
   "source": [
    "## Processing the Data\n",
    "\n",
    "### Feature Extraction\n",
    "Convert images to grayscale"
   ]
  },
  {
   "cell_type": "code",
   "execution_count": 3,
   "metadata": {},
   "outputs": [],
   "source": [
    "images_gray = [ color.rgb2gray(i) for i in images_total]"
   ]
  },
  {
   "cell_type": "markdown",
   "metadata": {},
   "source": [
    "Extract HOG Features"
   ]
  },
  {
   "cell_type": "code",
   "execution_count": 4,
   "metadata": {},
   "outputs": [],
   "source": [
    "ppc = 16\n",
    "hog_images = []\n",
    "hog_features = []\n",
    "for image in images_gray:\n",
    "    fd,hog_image = hog(image, orientations=8, pixels_per_cell=(ppc,ppc),cells_per_block=(4, 4),block_norm= 'L2',visualise=True)\n",
    "    hog_images.append(hog_image)\n",
    "    hog_features.append(fd)"
   ]
  },
  {
   "cell_type": "markdown",
   "metadata": {},
   "source": [
    " ### Creating the Test and Training Datasets\n",
    " Combining Extracted Features and Class Labels <br> Shuffling the data"
   ]
  },
  {
   "cell_type": "code",
   "execution_count": 5,
   "metadata": {},
   "outputs": [],
   "source": [
    "class_labels=np.array(class_labels).reshape(len(class_labels),1)\n",
    "data_total = np.array(hog_features)\n",
    "data_frame = np.hstack((data_total,class_labels))\n",
    "np.random.shuffle(data_frame)"
   ]
  },
  {
   "cell_type": "markdown",
   "metadata": {},
   "source": [
    "Partitioning the Data into Test and Training sets"
   ]
  },
  {
   "cell_type": "code",
   "execution_count": 6,
   "metadata": {},
   "outputs": [],
   "source": [
    "percentage = 80\n",
    "partition = int(len(data_total)*percentage/100)\n",
    "x_train, x_test = data_frame[:partition,:-1],  data_frame[partition:,:-1]\n",
    "y_train, y_test = data_frame[:partition,-1:].ravel() , data_frame[partition:,-1:].ravel()"
   ]
  },
  {
   "cell_type": "markdown",
   "metadata": {},
   "source": [
    "## Classifying the Data\n",
    "### Random Forest Classifier\n",
    "Create and train the classifier"
   ]
  },
  {
   "cell_type": "code",
   "execution_count": 7,
   "metadata": {},
   "outputs": [],
   "source": [
    "from sklearn.ensemble import RandomForestClassifier\n",
    "\n",
    "#Create a Gaussian Classifier\n",
    "clf=RandomForestClassifier(n_estimators=100)\n",
    "\n",
    "#Train the model using the training sets y_pred=clf.predict(X_test)\n",
    "clf.fit(x_train,y_train)\n",
    "y_pred=clf.predict(x_test)"
   ]
  },
  {
   "cell_type": "markdown",
   "metadata": {},
   "source": [
    "Accuracy of the Random Forest Classifier"
   ]
  },
  {
   "cell_type": "code",
   "execution_count": 8,
   "metadata": {},
   "outputs": [
    {
     "name": "stdout",
     "output_type": "stream",
     "text": [
      "Accuracy: 0.5416666666666666\n",
      "\n",
      "\n",
      "             precision    recall  f1-score   support\n",
      "\n",
      "     Cubism       0.60      0.72      0.65       190\n",
      "     Rococo       0.48      0.50      0.49       155\n",
      "Romanticism       0.53      0.39      0.45       183\n",
      "\n",
      "avg / total       0.54      0.54      0.53       528\n",
      "\n"
     ]
    }
   ],
   "source": [
    "print(\"Accuracy: \"+str(accuracy_score(y_test, y_pred)))\n",
    "print('\\n')\n",
    "print(classification_report(y_test, y_pred,target_names=categories))\n"
   ]
  },
  {
   "cell_type": "code",
   "execution_count": 9,
   "metadata": {},
   "outputs": [],
   "source": [
    "from sklearn.metrics import accuracy_score, log_loss\n",
    "from sklearn.neighbors import KNeighborsClassifier\n",
    "from sklearn.svm import LinearSVC, NuSVC\n",
    "from sklearn.tree import DecisionTreeClassifier\n",
    "from sklearn.ensemble import RandomForestClassifier, AdaBoostClassifier, GradientBoostingClassifier\n",
    "from sklearn.naive_bayes import GaussianNB\n",
    "\n",
    "classifiers = [\n",
    "    KNeighborsClassifier(3),\n",
    "    NuSVC(probability=True),\n",
    "    LinearSVC(C=100.0, random_state=42),\n",
    "    DecisionTreeClassifier(),\n",
    "    RandomForestClassifier(n_estimators=100),\n",
    "    AdaBoostClassifier(),\n",
    "    GradientBoostingClassifier(),\n",
    "    GaussianNB()]"
   ]
  },
  {
   "cell_type": "code",
   "execution_count": 10,
   "metadata": {},
   "outputs": [
    {
     "name": "stdout",
     "output_type": "stream",
     "text": [
      "==============================\n",
      "KNeighborsClassifier\n",
      "Results\n",
      "\n",
      "\n",
      "Accuracy: 46.2121%\n",
      "             precision    recall  f1-score   support\n",
      "\n",
      "     Cubism       0.47      0.73      0.57       190\n",
      "     Rococo       0.44      0.39      0.41       155\n",
      "Romanticism       0.46      0.25      0.32       183\n",
      "\n",
      "avg / total       0.46      0.46      0.44       528\n",
      "\n",
      "==============================\n",
      "NuSVC\n",
      "Results\n",
      "\n",
      "\n",
      "Accuracy: 51.8939%\n",
      "             precision    recall  f1-score   support\n",
      "\n",
      "     Cubism       0.60      0.66      0.63       190\n",
      "     Rococo       0.47      0.50      0.48       155\n",
      "Romanticism       0.46      0.39      0.42       183\n",
      "\n",
      "avg / total       0.51      0.52      0.51       528\n",
      "\n",
      "==============================\n",
      "LinearSVC\n",
      "Results\n",
      "\n",
      "\n",
      "Accuracy: 43.5606%\n",
      "             precision    recall  f1-score   support\n",
      "\n",
      "     Cubism       0.54      0.43      0.48       190\n",
      "     Rococo       0.38      0.60      0.47       155\n",
      "Romanticism       0.42      0.31      0.35       183\n",
      "\n",
      "avg / total       0.45      0.44      0.43       528\n",
      "\n",
      "==============================\n",
      "DecisionTreeClassifier\n",
      "Results\n",
      "\n",
      "\n",
      "Accuracy: 42.8030%\n",
      "             precision    recall  f1-score   support\n",
      "\n",
      "     Cubism       0.55      0.45      0.50       190\n",
      "     Rococo       0.35      0.40      0.37       155\n",
      "Romanticism       0.40      0.43      0.41       183\n",
      "\n",
      "avg / total       0.44      0.43      0.43       528\n",
      "\n",
      "==============================\n",
      "RandomForestClassifier\n",
      "Results\n",
      "\n",
      "\n",
      "Accuracy: 55.8712%\n",
      "             precision    recall  f1-score   support\n",
      "\n",
      "     Cubism       0.62      0.70      0.66       190\n",
      "     Rococo       0.51      0.54      0.52       155\n",
      "Romanticism       0.53      0.43      0.48       183\n",
      "\n",
      "avg / total       0.55      0.56      0.55       528\n",
      "\n",
      "==============================\n",
      "AdaBoostClassifier\n",
      "Results\n",
      "\n",
      "\n",
      "Accuracy: 51.3258%\n",
      "             precision    recall  f1-score   support\n",
      "\n",
      "     Cubism       0.59      0.61      0.60       190\n",
      "     Rococo       0.47      0.54      0.50       155\n",
      "Romanticism       0.46      0.39      0.42       183\n",
      "\n",
      "avg / total       0.51      0.51      0.51       528\n",
      "\n",
      "==============================\n",
      "GradientBoostingClassifier\n",
      "Results\n",
      "\n",
      "\n",
      "Accuracy: 56.6288%\n",
      "             precision    recall  f1-score   support\n",
      "\n",
      "     Cubism       0.62      0.69      0.66       190\n",
      "     Rococo       0.52      0.55      0.54       155\n",
      "Romanticism       0.54      0.44      0.49       183\n",
      "\n",
      "avg / total       0.56      0.57      0.56       528\n",
      "\n",
      "==============================\n",
      "GaussianNB\n",
      "Results\n",
      "\n",
      "\n",
      "Accuracy: 52.2727%\n",
      "             precision    recall  f1-score   support\n",
      "\n",
      "     Cubism       0.57      0.63      0.60       190\n",
      "     Rococo       0.49      0.59      0.53       155\n",
      "Romanticism       0.50      0.36      0.41       183\n",
      "\n",
      "avg / total       0.52      0.52      0.52       528\n",
      "\n"
     ]
    }
   ],
   "source": [
    "for clf in classifiers:\n",
    "    clf.fit(x_train, y_train)\n",
    "    name = clf.__class__.__name__\n",
    "    \n",
    "    print(\"=\"*30)\n",
    "    print(name)\n",
    "    \n",
    "    print('Results')\n",
    "    print('\\n')\n",
    "    y_pred = clf.predict(x_test)\n",
    "    acc = accuracy_score(y_test, y_pred)\n",
    "    print(\"Accuracy: {:.4%}\".format(acc))\n",
    "    print(classification_report(y_test, y_pred,target_names=categories))\n",
    "    \n",
    "    "
   ]
  },
  {
   "cell_type": "markdown",
   "metadata": {},
   "source": [
    "## Feature Extraction - Local Binary Patterns"
   ]
  },
  {
   "cell_type": "code",
   "execution_count": 11,
   "metadata": {},
   "outputs": [],
   "source": [
    "class LocalBinaryPatterns:\n",
    "    def __init__(self, numPoints, radius):\n",
    "        # store the number of points and radius\n",
    "        self.numPoints = numPoints\n",
    "        self.radius = radius\n",
    " \n",
    "    def describe(self, image, eps=1e-7):\n",
    "        # compute the Local Binary Pattern representation\n",
    "        # of the image, and then use the LBP representation\n",
    "        # to build the histogram of patterns\n",
    "        lbp = feature.local_binary_pattern(image, self.numPoints,\n",
    "            self.radius, method=\"uniform\")\n",
    "        (hist, _) = np.histogram(lbp.ravel(),\n",
    "            bins=np.arange(0, self.numPoints + 3),\n",
    "            range=(0, self.numPoints + 2))\n",
    " \n",
    "        # normalize the histogram\n",
    "        hist = hist.astype(\"float\")\n",
    "        hist /= (hist.sum() + eps)\n",
    " \n",
    "        # return the histogram of Local Binary Patterns\n",
    "        return hist"
   ]
  },
  {
   "cell_type": "markdown",
   "metadata": {},
   "source": [
    "Finding local binary patterns of numPoints 24 and radius 8 pixels"
   ]
  },
  {
   "cell_type": "code",
   "execution_count": 12,
   "metadata": {},
   "outputs": [],
   "source": [
    "desc = LocalBinaryPatterns(24, 8)"
   ]
  },
  {
   "cell_type": "code",
   "execution_count": 13,
   "metadata": {},
   "outputs": [],
   "source": [
    "lbp_features = []\n",
    "for image in images_gray:\n",
    "    hist = desc.describe(image)\n",
    "    lbp_features.append(hist)"
   ]
  },
  {
   "cell_type": "markdown",
   "metadata": {},
   "source": [
    "## Partitioning and Classifiying Data - LBP "
   ]
  },
  {
   "cell_type": "code",
   "execution_count": 14,
   "metadata": {},
   "outputs": [],
   "source": [
    "data_frame = np.hstack((lbp_features,class_labels))\n",
    "np.random.shuffle(data_frame)"
   ]
  },
  {
   "cell_type": "code",
   "execution_count": 15,
   "metadata": {},
   "outputs": [],
   "source": [
    "percentage = 80\n",
    "partition = int(len(data_total)*percentage/100)\n",
    "x_train, x_test = data_frame[:partition,:-1],  data_frame[partition:,:-1]\n",
    "y_train, y_test = data_frame[:partition,-1:].ravel() , data_frame[partition:,-1:].ravel()"
   ]
  },
  {
   "cell_type": "code",
   "execution_count": 16,
   "metadata": {},
   "outputs": [
    {
     "name": "stdout",
     "output_type": "stream",
     "text": [
      "Accuracy: 0.5265151515151515\n",
      "\n",
      "\n",
      "             precision    recall  f1-score   support\n",
      "\n",
      "     Cubism       0.65      0.71      0.68       177\n",
      "     Rococo       0.51      0.45      0.48       177\n",
      "Romanticism       0.41      0.41      0.41       174\n",
      "\n",
      "avg / total       0.52      0.53      0.52       528\n",
      "\n"
     ]
    }
   ],
   "source": [
    "clf=RandomForestClassifier(n_estimators=100)\n",
    "\n",
    "#Train the model using the training sets y_pred=clf.predict(X_test)\n",
    "clf.fit(x_train,y_train)\n",
    "y_pred=clf.predict(x_test)\n",
    "print(\"Accuracy: \"+str(accuracy_score(y_test, y_pred)))\n",
    "print('\\n')\n",
    "print(classification_report(y_test, y_pred,target_names=categories))"
   ]
  },
  {
   "cell_type": "code",
   "execution_count": 17,
   "metadata": {},
   "outputs": [
    {
     "name": "stdout",
     "output_type": "stream",
     "text": [
      "==============================\n",
      "KNeighborsClassifier\n",
      "Results\n",
      "\n",
      "\n",
      "Accuracy: 46.5909%\n",
      "             precision    recall  f1-score   support\n",
      "\n",
      "     Cubism       0.52      0.63      0.57       177\n",
      "     Rococo       0.43      0.36      0.39       177\n",
      "Romanticism       0.42      0.41      0.42       174\n",
      "\n",
      "avg / total       0.46      0.47      0.46       528\n",
      "\n",
      "==============================\n",
      "NuSVC\n",
      "Results\n",
      "\n",
      "\n",
      "Accuracy: 45.6439%\n",
      "             precision    recall  f1-score   support\n",
      "\n",
      "     Cubism       0.54      0.76      0.63       177\n",
      "     Rococo       0.26      0.09      0.13       177\n",
      "Romanticism       0.42      0.52      0.46       174\n",
      "\n",
      "avg / total       0.41      0.46      0.41       528\n",
      "\n",
      "==============================\n",
      "LinearSVC\n",
      "Results\n",
      "\n",
      "\n",
      "Accuracy: 55.6818%\n",
      "             precision    recall  f1-score   support\n",
      "\n",
      "     Cubism       0.61      0.79      0.68       177\n",
      "     Rococo       0.52      0.54      0.53       177\n",
      "Romanticism       0.51      0.34      0.41       174\n",
      "\n",
      "avg / total       0.55      0.56      0.54       528\n",
      "\n",
      "==============================\n",
      "DecisionTreeClassifier\n",
      "Results\n",
      "\n",
      "\n",
      "Accuracy: 43.5606%\n",
      "             precision    recall  f1-score   support\n",
      "\n",
      "     Cubism       0.55      0.54      0.54       177\n",
      "     Rococo       0.37      0.37      0.37       177\n",
      "Romanticism       0.39      0.40      0.39       174\n",
      "\n",
      "avg / total       0.44      0.44      0.44       528\n",
      "\n",
      "==============================\n",
      "RandomForestClassifier\n",
      "Results\n",
      "\n",
      "\n",
      "Accuracy: 53.9773%\n",
      "             precision    recall  f1-score   support\n",
      "\n",
      "     Cubism       0.65      0.71      0.68       177\n",
      "     Rococo       0.52      0.47      0.49       177\n",
      "Romanticism       0.44      0.44      0.44       174\n",
      "\n",
      "avg / total       0.54      0.54      0.54       528\n",
      "\n",
      "==============================\n",
      "AdaBoostClassifier\n",
      "Results\n",
      "\n",
      "\n",
      "Accuracy: 52.4621%\n",
      "             precision    recall  f1-score   support\n",
      "\n",
      "     Cubism       0.65      0.69      0.67       177\n",
      "     Rococo       0.46      0.44      0.45       177\n",
      "Romanticism       0.46      0.44      0.45       174\n",
      "\n",
      "avg / total       0.52      0.52      0.52       528\n",
      "\n",
      "==============================\n",
      "GradientBoostingClassifier\n",
      "Results\n",
      "\n",
      "\n",
      "Accuracy: 52.8409%\n",
      "             precision    recall  f1-score   support\n",
      "\n",
      "     Cubism       0.64      0.69      0.66       177\n",
      "     Rococo       0.50      0.51      0.51       177\n",
      "Romanticism       0.43      0.38      0.40       174\n",
      "\n",
      "avg / total       0.52      0.53      0.52       528\n",
      "\n",
      "==============================\n",
      "GaussianNB\n",
      "Results\n",
      "\n",
      "\n",
      "Accuracy: 47.3485%\n",
      "             precision    recall  f1-score   support\n",
      "\n",
      "     Cubism       0.46      0.82      0.59       177\n",
      "     Rococo       0.45      0.40      0.42       177\n",
      "Romanticism       0.58      0.20      0.29       174\n",
      "\n",
      "avg / total       0.50      0.47      0.44       528\n",
      "\n"
     ]
    }
   ],
   "source": [
    "classifiers = [\n",
    "    KNeighborsClassifier(3),\n",
    "    NuSVC(probability=True),\n",
    "    LinearSVC(C=100.0, random_state=42),\n",
    "    DecisionTreeClassifier(),\n",
    "    RandomForestClassifier(n_estimators=100),\n",
    "    AdaBoostClassifier(),\n",
    "    GradientBoostingClassifier(),\n",
    "    GaussianNB()]\n",
    "\n",
    "for clf in classifiers:\n",
    "    clf.fit(x_train, y_train)\n",
    "    name = clf.__class__.__name__\n",
    "    \n",
    "    print(\"=\"*30)\n",
    "    print(name)\n",
    "    \n",
    "    print('Results')\n",
    "    print('\\n')\n",
    "    y_pred = clf.predict(x_test)\n",
    "    acc = accuracy_score(y_test, y_pred)\n",
    "    print(\"Accuracy: {:.4%}\".format(acc))\n",
    "    print(classification_report(y_test, y_pred,target_names=categories))"
   ]
  },
  {
   "cell_type": "code",
   "execution_count": null,
   "metadata": {},
   "outputs": [],
   "source": []
  }
 ],
 "metadata": {
  "kernelspec": {
   "display_name": "Python 3",
   "language": "python",
   "name": "python3"
  },
  "language_info": {
   "codemirror_mode": {
    "name": "ipython",
    "version": 3
   },
   "file_extension": ".py",
   "mimetype": "text/x-python",
   "name": "python",
   "nbconvert_exporter": "python",
   "pygments_lexer": "ipython3",
   "version": "3.6.5"
  }
 },
 "nbformat": 4,
 "nbformat_minor": 2
}
