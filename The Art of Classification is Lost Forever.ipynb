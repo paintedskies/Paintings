{
 "cells": [
  {
   "cell_type": "markdown",
   "metadata": {},
   "source": [
    "# Classifying the Pandora Dataset"
   ]
  },
  {
   "cell_type": "code",
   "execution_count": 1,
   "metadata": {},
   "outputs": [],
   "source": [
    "import numpy as np # linear algebra\n",
    "import json\n",
    "from matplotlib import pyplot as plt\n",
    "from skimage import color\n",
    "from skimage.feature import hog\n",
    "from sklearn import svm\n",
    "from sklearn.metrics import classification_report,accuracy_score\n",
    "import glob\n",
    "import os\n",
    "import cv2"
   ]
  },
  {
   "cell_type": "markdown",
   "metadata": {},
   "source": [
    "## Importing Data\n",
    "\n",
    " - Import Images\n",
    " - Get Class Labels\n",
    " - Get Categories\n"
   ]
  },
  {
   "cell_type": "code",
   "execution_count": 2,
   "metadata": {},
   "outputs": [],
   "source": [
    "#print(next(os.walk('F:\\\\datamining\\\\rawdata'))[1])\n",
    "class_labels = []\n",
    "categories = []\n",
    "category_count = 0\n",
    "images_total = []\n",
    "raw_data = \"F:\\\\datamining\\\\rawdata\"\n",
    "\n",
    "for item in os.listdir(raw_data):\n",
    "    img_dir = os.path.join(raw_data, item)\n",
    "    categories.append(item)\n",
    "    data_path = os.path.join(img_dir,'*g')\n",
    "    files = glob.glob(data_path)\n",
    "    \n",
    "    for f1 in files:\n",
    "        img = cv2.imread(f1)\n",
    "        images_total.append(img)\n",
    "        class_labels.append(category_count)\n",
    "    category_count+=1"
   ]
  },
  {
   "cell_type": "markdown",
   "metadata": {},
   "source": [
    "## Processing the Data\n",
    "\n",
    "### Feature Extraction\n",
    "Convert images to grayscale"
   ]
  },
  {
   "cell_type": "code",
   "execution_count": 3,
   "metadata": {},
   "outputs": [],
   "source": [
    "images_gray = [ color.rgb2gray(i) for i in images_total]"
   ]
  },
  {
   "cell_type": "markdown",
   "metadata": {},
   "source": [
    "Extract HOG Features"
   ]
  },
  {
   "cell_type": "code",
   "execution_count": null,
   "metadata": {},
   "outputs": [],
   "source": [
    "ppc = 16\n",
    "hog_images = []\n",
    "hog_features = []\n",
    "for image in images_gray:\n",
    "    fd,hog_image = hog(image, orientations=8, pixels_per_cell=(ppc,ppc),cells_per_block=(4, 4),block_norm= 'L2',visualise=True)\n",
    "    hog_images.append(hog_image)\n",
    "    hog_features.append(fd)"
   ]
  },
  {
   "cell_type": "markdown",
   "metadata": {},
   "source": [
    " ### Creating the Test and Training Datasets\n",
    " Combining Extracted Features and Class Labels <br> Shuffling the data"
   ]
  },
  {
   "cell_type": "code",
   "execution_count": 5,
   "metadata": {},
   "outputs": [],
   "source": [
    "class_labels=np.array(class_labels).reshape(len(class_labels),1)\n",
    "data_total = np.array(hog_features)\n",
    "data_frame = np.hstack((data_total,class_labels))\n",
    "np.random.shuffle(data_frame)"
   ]
  },
  {
   "cell_type": "markdown",
   "metadata": {},
   "source": [
    "Partitioning the Data into Test and Training sets"
   ]
  },
  {
   "cell_type": "code",
   "execution_count": 6,
   "metadata": {},
   "outputs": [],
   "source": [
    "percentage = 80\n",
    "partition = int(len(data_total)*percentage/100)\n",
    "x_train, x_test = data_frame[:partition,:-1],  data_frame[partition:,:-1]\n",
    "y_train, y_test = data_frame[:partition,-1:].ravel() , data_frame[partition:,-1:].ravel()"
   ]
  },
  {
   "cell_type": "markdown",
   "metadata": {},
   "source": [
    "## Classifying the Data\n",
    "### Random Forest Classifier\n",
    "Create and train the classifier"
   ]
  },
  {
   "cell_type": "code",
   "execution_count": 7,
   "metadata": {},
   "outputs": [],
   "source": [
    "from sklearn.ensemble import RandomForestClassifier\n",
    "\n",
    "#Create a Gaussian Classifier\n",
    "clf=RandomForestClassifier(n_estimators=100)\n",
    "\n",
    "#Train the model using the training sets y_pred=clf.predict(X_test)\n",
    "clf.fit(x_train,y_train)\n",
    "y_pred=clf.predict(x_test)"
   ]
  },
  {
   "cell_type": "markdown",
   "metadata": {},
   "source": [
    "Accuracy of the Random Forest Classifier"
   ]
  },
  {
   "cell_type": "code",
   "execution_count": 10,
   "metadata": {},
   "outputs": [
    {
     "name": "stdout",
     "output_type": "stream",
     "text": [
      "Accuracy: 0.5416666666666666\n",
      "\n",
      "\n",
      "             precision    recall  f1-score   support\n",
      "\n",
      "     Cubism       0.62      0.79      0.70       195\n",
      "     Rococo       0.47      0.45      0.46       163\n",
      "Romanticism       0.47      0.34      0.39       170\n",
      "\n",
      "avg / total       0.53      0.54      0.53       528\n",
      "\n"
     ]
    }
   ],
   "source": [
    "print(\"Accuracy: \"+str(accuracy_score(y_test, y_pred)))\n",
    "print('\\n')\n",
    "print(classification_report(y_test, y_pred,target_names=categories))"
   ]
  }
 ],
 "metadata": {
  "kernelspec": {
   "display_name": "Python 3",
   "language": "python",
   "name": "python3"
  },
  "language_info": {
   "codemirror_mode": {
    "name": "ipython",
    "version": 3
   },
   "file_extension": ".py",
   "mimetype": "text/x-python",
   "name": "python",
   "nbconvert_exporter": "python",
   "pygments_lexer": "ipython3",
   "version": "3.6.5"
  }
 },
 "nbformat": 4,
 "nbformat_minor": 2
}
